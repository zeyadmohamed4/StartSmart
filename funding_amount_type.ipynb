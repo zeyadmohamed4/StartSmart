version https://git-lfs.github.com/spec/v1
oid sha256:9175c05c1ddf11c3d73a1f3d875380be22e1e75ccf3892c0fc077b4b08087324
size 7409011
