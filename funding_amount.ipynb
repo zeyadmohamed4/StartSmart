version https://git-lfs.github.com/spec/v1
oid sha256:885f6355077cc8c28408e171f522d5a1d93bf442811872ffeb34c2e9c0615d3a
size 428998
